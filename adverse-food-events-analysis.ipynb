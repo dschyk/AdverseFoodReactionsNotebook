{
 "cells": [
  {
   "cell_type": "code",
   "execution_count": 1,
   "id": "spanish-majority",
   "metadata": {},
   "outputs": [],
   "source": [
    "import pandas as pd\n",
    "import numpy as np\n",
    "import matplotlib.pyplot as plt\n",
    "import sklearn"
   ]
  },
  {
   "cell_type": "markdown",
   "id": "environmental-welding",
   "metadata": {},
   "source": [
    "# Adverse Food Events Exploration and Analysis\n",
    "This notebook looks into using various Python-based machine learning and data science libraries in an attempt to explore and find any correlation to find patterns in food related adverse events.\n",
    "\n",
    "We're going to take the following approach:\n",
    "\n",
    "1. Problem definition\n",
    "2. Data\n",
    "3. Evaluation\n",
    "4. Features\n",
    "5. Modelling\n",
    "6. Experimentation"
   ]
  },
  {
   "cell_type": "markdown",
   "id": "increasing-treatment",
   "metadata": {},
   "source": [
    "## 1. Problem Definition\n",
    "What are the most commonly reported foodstuffs?\n",
    "What are the most commonly reported medical reactions to foods?\n",
    "Where do people in the US most commonly report food-related conditions?"
   ]
  },
  {
   "cell_type": "markdown",
   "id": "diverse-fraud",
   "metadata": {},
   "source": [
    "## 2. Data\n",
    "The data was downloaded from: https://www.kaggle.com/fda/adverse-food-events"
   ]
  },
  {
   "cell_type": "markdown",
   "id": "orange-cambodia",
   "metadata": {},
   "source": [
    "## 3. Evaluation\n",
    "TBD"
   ]
  },
  {
   "cell_type": "markdown",
   "id": "little-minutes",
   "metadata": {},
   "source": [
    "## 4. Features\n",
    " 1. RA_Report - The unique number that identifies each case.\n",
    " \n",
    "\n",
    " 2. RA_CAERS Created Date - The date on which the data were first entered into CAERS from an adverse event report.\n",
    "\n",
    "\n",
    " 3. AEC_Event Start Date - The reported date on which the consumer first experienced the adverse event.\n",
    "\n",
    "\n",
    " 4. PRI_Product Role - Suspect or concomitant (as reported)\n",
    "\n",
    "\n",
    " 5. PRI_Reported Brand/Product- Name The verbatim brands and/or product names indicated to have been used by the consumer reported to have experienced the adverse event. An adverse event report may specify consumption of a single product or multiple products.\n",
    " \n",
    "\n",
    " 6. PRI_FDA Industry Code - The FDA industry code associated with the type of product reported.\n",
    "\n",
    "\n",
    " 7. PRI_FDA Industry Name - The FDA industry description associated with the type of product reported. (Ice cream products, cosmetics, Coffee/Tea)\n",
    "\n",
    "\n",
    " 8. CI_Age at Adverse Event - The age of the consumer reported to have experienced the adverse event.\n",
    "\n",
    "\n",
    " 9. CI_Age Unit - The time unit (day, week, month, year) of the age provided in the CI_Age at Adverse Event data field for the consumer reported to have experienced the adverse event.\n",
    "\n",
    "\n",
    " 10. CI_Gender - The sex of the individual reported to have experienced the adverse event.\n",
    "\n",
    "\n",
    " 11. AEC_One Row Outcomes - Outcome(s) of the adverse event experienced by the injured consumer as specified by the reporter; each report may indicate one or more outcomes for each consumer.\n",
    "\n",
    "\n",
    " 12. SYM_One Row Coded Symptoms - The symptom(s) experienced by the injured consumer as specified by the reporter and coded by FDA according to the Medical Data Dictionary for Regulatory Activities (MedDRA)."
   ]
  },
  {
   "cell_type": "code",
   "execution_count": 2,
   "id": "british-protein",
   "metadata": {
    "scrolled": false
   },
   "outputs": [
    {
     "data": {
      "text/html": [
       "<div>\n",
       "<style scoped>\n",
       "    .dataframe tbody tr th:only-of-type {\n",
       "        vertical-align: middle;\n",
       "    }\n",
       "\n",
       "    .dataframe tbody tr th {\n",
       "        vertical-align: top;\n",
       "    }\n",
       "\n",
       "    .dataframe thead th {\n",
       "        text-align: right;\n",
       "    }\n",
       "</style>\n",
       "<table border=\"1\" class=\"dataframe\">\n",
       "  <thead>\n",
       "    <tr style=\"text-align: right;\">\n",
       "      <th></th>\n",
       "      <th>RA_Report #</th>\n",
       "      <th>RA_CAERS Created Date</th>\n",
       "      <th>AEC_Event Start Date</th>\n",
       "      <th>PRI_Product Role</th>\n",
       "      <th>PRI_Reported Brand/Product Name</th>\n",
       "      <th>PRI_FDA Industry Code</th>\n",
       "      <th>PRI_FDA Industry Name</th>\n",
       "      <th>CI_Age at Adverse Event</th>\n",
       "      <th>CI_Age Unit</th>\n",
       "      <th>CI_Gender</th>\n",
       "      <th>AEC_One Row Outcomes</th>\n",
       "      <th>SYM_One Row Coded Symptoms</th>\n",
       "    </tr>\n",
       "  </thead>\n",
       "  <tbody>\n",
       "    <tr>\n",
       "      <th>0</th>\n",
       "      <td>65325</td>\n",
       "      <td>1/1/2004</td>\n",
       "      <td>8/4/2003</td>\n",
       "      <td>Suspect</td>\n",
       "      <td>MIDWEST COUNTRY FAIR CHOCOLATE FLAVORED CHIPS</td>\n",
       "      <td>3</td>\n",
       "      <td>Bakery Prod/Dough/Mix/Icing</td>\n",
       "      <td>2.0</td>\n",
       "      <td>Year(s)</td>\n",
       "      <td>Female</td>\n",
       "      <td>VISITED AN ER, VISITED A HEALTH CARE PROVIDER,...</td>\n",
       "      <td>SWELLING FACE, RASH, WHEEZING, COUGH, HOSPITAL...</td>\n",
       "    </tr>\n",
       "    <tr>\n",
       "      <th>1</th>\n",
       "      <td>65325</td>\n",
       "      <td>1/1/2004</td>\n",
       "      <td>8/4/2003</td>\n",
       "      <td>Suspect</td>\n",
       "      <td>MIDWEST COUNTRY FAIR CHOCOLATE FLAVORED CHIPS</td>\n",
       "      <td>3</td>\n",
       "      <td>Bakery Prod/Dough/Mix/Icing</td>\n",
       "      <td>2.0</td>\n",
       "      <td>Year(s)</td>\n",
       "      <td>Female</td>\n",
       "      <td>VISITED AN ER, VISITED A HEALTH CARE PROVIDER,...</td>\n",
       "      <td>SWELLING FACE, WHEEZING, COUGH, RASH, HOSPITAL...</td>\n",
       "    </tr>\n",
       "    <tr>\n",
       "      <th>2</th>\n",
       "      <td>65333</td>\n",
       "      <td>1/1/2004</td>\n",
       "      <td>NaN</td>\n",
       "      <td>Suspect</td>\n",
       "      <td>KROGER CLASSIC CREAM-DE-MINT CANDY MINT CHIP I...</td>\n",
       "      <td>13</td>\n",
       "      <td>Ice Cream Prod</td>\n",
       "      <td>NaN</td>\n",
       "      <td>Not Available</td>\n",
       "      <td>Female</td>\n",
       "      <td>VISITED AN ER</td>\n",
       "      <td>NAUSEA, DYSGEUSIA, DIARRHOEA</td>\n",
       "    </tr>\n",
       "    <tr>\n",
       "      <th>3</th>\n",
       "      <td>65335</td>\n",
       "      <td>1/1/2004</td>\n",
       "      <td>11/24/2003</td>\n",
       "      <td>Suspect</td>\n",
       "      <td>ENFAMIL LIPIL BABY FORMULA</td>\n",
       "      <td>40</td>\n",
       "      <td>Baby Food Prod</td>\n",
       "      <td>3.0</td>\n",
       "      <td>Month(s)</td>\n",
       "      <td>Not Available</td>\n",
       "      <td>NON-SERIOUS INJURIES/ ILLNESS</td>\n",
       "      <td>GASTROINTESTINAL DISORDER, VOMITING</td>\n",
       "    </tr>\n",
       "    <tr>\n",
       "      <th>4</th>\n",
       "      <td>65336</td>\n",
       "      <td>1/1/2004</td>\n",
       "      <td>NaN</td>\n",
       "      <td>Suspect</td>\n",
       "      <td>ENFIMIL LIPIL BABY FORMULA</td>\n",
       "      <td>40</td>\n",
       "      <td>Baby Food Prod</td>\n",
       "      <td>NaN</td>\n",
       "      <td>Not Available</td>\n",
       "      <td>Not Available</td>\n",
       "      <td>VISITED A HEALTH CARE PROVIDER</td>\n",
       "      <td>GASTROINTESTINAL DISORDER, PHYSICAL EXAMINATION</td>\n",
       "    </tr>\n",
       "  </tbody>\n",
       "</table>\n",
       "</div>"
      ],
      "text/plain": [
       "   RA_Report # RA_CAERS Created Date AEC_Event Start Date PRI_Product Role  \\\n",
       "0        65325              1/1/2004             8/4/2003          Suspect   \n",
       "1        65325              1/1/2004             8/4/2003          Suspect   \n",
       "2        65333              1/1/2004                  NaN          Suspect   \n",
       "3        65335              1/1/2004           11/24/2003          Suspect   \n",
       "4        65336              1/1/2004                  NaN          Suspect   \n",
       "\n",
       "                     PRI_Reported Brand/Product Name  PRI_FDA Industry Code  \\\n",
       "0      MIDWEST COUNTRY FAIR CHOCOLATE FLAVORED CHIPS                      3   \n",
       "1      MIDWEST COUNTRY FAIR CHOCOLATE FLAVORED CHIPS                      3   \n",
       "2  KROGER CLASSIC CREAM-DE-MINT CANDY MINT CHIP I...                     13   \n",
       "3                         ENFAMIL LIPIL BABY FORMULA                     40   \n",
       "4                         ENFIMIL LIPIL BABY FORMULA                     40   \n",
       "\n",
       "         PRI_FDA Industry Name  CI_Age at Adverse Event    CI_Age Unit  \\\n",
       "0  Bakery Prod/Dough/Mix/Icing                      2.0        Year(s)   \n",
       "1  Bakery Prod/Dough/Mix/Icing                      2.0        Year(s)   \n",
       "2               Ice Cream Prod                      NaN  Not Available   \n",
       "3               Baby Food Prod                      3.0       Month(s)   \n",
       "4               Baby Food Prod                      NaN  Not Available   \n",
       "\n",
       "       CI_Gender                               AEC_One Row Outcomes  \\\n",
       "0         Female  VISITED AN ER, VISITED A HEALTH CARE PROVIDER,...   \n",
       "1         Female  VISITED AN ER, VISITED A HEALTH CARE PROVIDER,...   \n",
       "2         Female                                      VISITED AN ER   \n",
       "3  Not Available                      NON-SERIOUS INJURIES/ ILLNESS   \n",
       "4  Not Available                     VISITED A HEALTH CARE PROVIDER   \n",
       "\n",
       "                          SYM_One Row Coded Symptoms  \n",
       "0  SWELLING FACE, RASH, WHEEZING, COUGH, HOSPITAL...  \n",
       "1  SWELLING FACE, WHEEZING, COUGH, RASH, HOSPITAL...  \n",
       "2                       NAUSEA, DYSGEUSIA, DIARRHOEA  \n",
       "3                GASTROINTESTINAL DISORDER, VOMITING  \n",
       "4    GASTROINTESTINAL DISORDER, PHYSICAL EXAMINATION  "
      ]
     },
     "execution_count": 2,
     "metadata": {},
     "output_type": "execute_result"
    }
   ],
   "source": [
    "df = pd.read_csv('data/CAERS_ASCII_2004_2017Q2.csv')\n",
    "df.head()"
   ]
  },
  {
   "cell_type": "code",
   "execution_count": 3,
   "id": "banned-classroom",
   "metadata": {
    "scrolled": true
   },
   "outputs": [
    {
     "data": {
      "text/plain": [
       "(90786, 12)"
      ]
     },
     "execution_count": 3,
     "metadata": {},
     "output_type": "execute_result"
    }
   ],
   "source": [
    "df.shape"
   ]
  },
  {
   "cell_type": "code",
   "execution_count": 4,
   "id": "labeled-disabled",
   "metadata": {
    "scrolled": false
   },
   "outputs": [
    {
     "data": {
      "text/plain": [
       "<bound method DataFrame.info of        RA_Report # RA_CAERS Created Date AEC_Event Start Date  \\\n",
       "0            65325              1/1/2004             8/4/2003   \n",
       "1            65325              1/1/2004             8/4/2003   \n",
       "2            65333              1/1/2004                  NaN   \n",
       "3            65335              1/1/2004           11/24/2003   \n",
       "4            65336              1/1/2004                  NaN   \n",
       "...            ...                   ...                  ...   \n",
       "90781       214516             6/29/2017            1/20/2017   \n",
       "90782       214516             6/29/2017            1/20/2017   \n",
       "90783       214516             6/29/2017            1/20/2017   \n",
       "90784       214604             6/30/2017                  NaN   \n",
       "90785       214610             6/30/2017                  NaN   \n",
       "\n",
       "      PRI_Product Role                    PRI_Reported Brand/Product Name  \\\n",
       "0              Suspect      MIDWEST COUNTRY FAIR CHOCOLATE FLAVORED CHIPS   \n",
       "1              Suspect      MIDWEST COUNTRY FAIR CHOCOLATE FLAVORED CHIPS   \n",
       "2              Suspect  KROGER CLASSIC CREAM-DE-MINT CANDY MINT CHIP I...   \n",
       "3              Suspect                         ENFAMIL LIPIL BABY FORMULA   \n",
       "4              Suspect                         ENFIMIL LIPIL BABY FORMULA   \n",
       "...                ...                                                ...   \n",
       "90781      Concomitant                                   CALTRATE CALCIUM   \n",
       "90782      Concomitant                                         VITAMIN D3   \n",
       "90783          Suspect                  SUPERIOR PREFERENCE HAIR COLORING   \n",
       "90784          Suspect                    DR. PERICONE NECK & CHEST CREAM   \n",
       "90785          Suspect                    DR. PERICONE NECK & CHEST CREAM   \n",
       "\n",
       "       PRI_FDA Industry Code                   PRI_FDA Industry Name  \\\n",
       "0                          3             Bakery Prod/Dough/Mix/Icing   \n",
       "1                          3             Bakery Prod/Dough/Mix/Icing   \n",
       "2                         13                          Ice Cream Prod   \n",
       "3                         40                          Baby Food Prod   \n",
       "4                         40                          Baby Food Prod   \n",
       "...                      ...                                     ...   \n",
       "90781                     54  Vit/Min/Prot/Unconv Diet(Human/Animal)   \n",
       "90782                     54  Vit/Min/Prot/Unconv Diet(Human/Animal)   \n",
       "90783                     53                               Cosmetics   \n",
       "90784                     53                               Cosmetics   \n",
       "90785                     53                               Cosmetics   \n",
       "\n",
       "       CI_Age at Adverse Event    CI_Age Unit      CI_Gender  \\\n",
       "0                          2.0        Year(s)         Female   \n",
       "1                          2.0        Year(s)         Female   \n",
       "2                          NaN  Not Available         Female   \n",
       "3                          3.0       Month(s)  Not Available   \n",
       "4                          NaN  Not Available  Not Available   \n",
       "...                        ...            ...            ...   \n",
       "90781                     66.0        Year(s)         Female   \n",
       "90782                     66.0        Year(s)         Female   \n",
       "90783                     66.0        Year(s)         Female   \n",
       "90784                      NaN  Not Available         Female   \n",
       "90785                      NaN  Not Available  Not Available   \n",
       "\n",
       "                                    AEC_One Row Outcomes  \\\n",
       "0      VISITED AN ER, VISITED A HEALTH CARE PROVIDER,...   \n",
       "1      VISITED AN ER, VISITED A HEALTH CARE PROVIDER,...   \n",
       "2                                          VISITED AN ER   \n",
       "3                          NON-SERIOUS INJURIES/ ILLNESS   \n",
       "4                         VISITED A HEALTH CARE PROVIDER   \n",
       "...                                                  ...   \n",
       "90781                     HOSPITALIZATION, VISITED AN ER   \n",
       "90782                     HOSPITALIZATION, VISITED AN ER   \n",
       "90783                     HOSPITALIZATION, VISITED AN ER   \n",
       "90784                      NON-SERIOUS INJURIES/ ILLNESS   \n",
       "90785                      NON-SERIOUS INJURIES/ ILLNESS   \n",
       "\n",
       "                              SYM_One Row Coded Symptoms  \n",
       "0      SWELLING FACE, RASH, WHEEZING, COUGH, HOSPITAL...  \n",
       "1      SWELLING FACE, WHEEZING, COUGH, RASH, HOSPITAL...  \n",
       "2                           NAUSEA, DYSGEUSIA, DIARRHOEA  \n",
       "3                    GASTROINTESTINAL DISORDER, VOMITING  \n",
       "4        GASTROINTESTINAL DISORDER, PHYSICAL EXAMINATION  \n",
       "...                                                  ...  \n",
       "90781                                           SWELLING  \n",
       "90782                                           SWELLING  \n",
       "90783                                           SWELLING  \n",
       "90784                          VOMITING, URTICARIA, RASH  \n",
       "90785                          VOMITING, URTICARIA, RASH  \n",
       "\n",
       "[90786 rows x 12 columns]>"
      ]
     },
     "execution_count": 4,
     "metadata": {},
     "output_type": "execute_result"
    }
   ],
   "source": [
    "df.info"
   ]
  },
  {
   "cell_type": "code",
   "execution_count": 5,
   "id": "extreme-plymouth",
   "metadata": {
    "scrolled": false
   },
   "outputs": [
    {
     "data": {
      "text/plain": [
       "Vit/Min/Prot/Unconv Diet(Human/Animal)     48501\n",
       "Cosmetics                                  11733\n",
       "Nuts/Edible Seed                            3383\n",
       "Vegetables/Vegetable Products               3115\n",
       "Soft Drink/Water                            2591\n",
       "Bakery Prod/Dough/Mix/Icing                 2543\n",
       "Fishery/Seafood Prod                        2382\n",
       "Fruit/Fruit Prod                            2239\n",
       "Milk/Butter/Dried Milk Prod                 1515\n",
       "Dietary Conv Food/Meal Replacements         1420\n",
       "Baby Food Prod                              1264\n",
       "Cereal Prep/Breakfast Food                  1264\n",
       "Mult Food Dinner/Grav/Sauce/Special         1016\n",
       "Snack Food Item                              996\n",
       "Coffee/Tea                                   872\n",
       "Ice Cream Prod                               828\n",
       "Choc/Cocoa Prod                              729\n",
       "Candy W/O Choc/Special/Chew Gum              614\n",
       "Cheese/Cheese Prod                           404\n",
       "Whole Grain/Milled Grain Prod/Starch         338\n",
       "Spices, Flavors And Salts                    318\n",
       "Food Additives (Human Use)                   312\n",
       "Dressing/Condiment                           291\n",
       "Soup                                         248\n",
       "Meat, Meat Products and Poultry              247\n",
       "Food Sweeteners (Nutritive)                  233\n",
       "Filled Milk/Imit Milk Prod                   225\n",
       "Prep Salad Prod                              223\n",
       "Egg/Egg Prod                                 208\n",
       "Macaroni/Noodle Prod                         189\n",
       "Beverage Bases/Conc/Nectar                   154\n",
       "Vegetable Oils                               111\n",
       "Gelatin/Rennet/Pudding Mix/Pie Filling       102\n",
       "Vegetable Protein Prod                        71\n",
       "Miscellaneous Food Related Items              35\n",
       "Alcoholic Beverage                            32\n",
       "Color Additiv Food/Drug/Cosmetic              20\n",
       "Food Service/Conveyance                       14\n",
       "Multiple Food Warehouses                       4\n",
       "Not Available                                  1\n",
       "EDIBLE INSECTS AND INSECT-DERIVED FOODS        1\n",
       "Name: PRI_FDA Industry Name, dtype: int64"
      ]
     },
     "execution_count": 5,
     "metadata": {},
     "output_type": "execute_result"
    }
   ],
   "source": [
    "df['PRI_FDA Industry Name'].value_counts()"
   ]
  },
  {
   "cell_type": "code",
   "execution_count": 6,
   "id": "crucial-louisville",
   "metadata": {
    "scrolled": false
   },
   "outputs": [
    {
     "data": {
      "text/plain": [
       "REDACTED                                                              6081\n",
       "VITAMIN D                                                              717\n",
       "MULTIVITAMIN                                                           667\n",
       "SUPER BETA PROSTATE                                                    648\n",
       "FISH OIL                                                               622\n",
       "CENTRUM SILVER WOMEN'S 50+ (MULTIMINERALS, MULTIVITAMINS) TABLET       615\n",
       "CALCIUM                                                                592\n",
       "VITAMIN C                                                              479\n",
       "WEN CLEANSING CONDITIONER                                              372\n",
       "PETER PAN CREAMY PEANUT BUTTER                                         332\n",
       "HYDROXYCUT REGULAR RAPID RELEASE CAPLETS                               327\n",
       "RAW OYSTERS                                                            305\n",
       "MAGNESIUM                                                              303\n",
       "VITAMIN D3                                                             290\n",
       "VITAMIN E                                                              242\n",
       "BIOTIN                                                                 224\n",
       "VITAMIN B12                                                            223\n",
       "CENTRUM SILVER (MULTIMINERALS, MULTIVITAMINS) TABLET                   222\n",
       "ALL DAY ENERGY GREENS                                                  183\n",
       "HYDROXYCUT                                                             171\n",
       "CENTRUM SILVER                                                         170\n",
       "VITAMINS                                                               169\n",
       "FOLIC ACID                                                             158\n",
       "CENTRUM SILVER ULTRA WOMEN'S (MULTIMINERALS, MULTIVITAMINS) TABLET     157\n",
       "PRESERVISION AREDS 2 FORMULA SOFT GELS (CAPSULE, SOFT)                 150\n",
       "POTASSIUM                                                              149\n",
       "IRON                                                                   148\n",
       "WEN                                                                    142\n",
       "PETER PAN PEANUT BUTTER                                                133\n",
       "HYDROXYCUT HARDCORE CAPSULES                                           132\n",
       "Name: PRI_Reported Brand/Product Name, dtype: int64"
      ]
     },
     "execution_count": 6,
     "metadata": {},
     "output_type": "execute_result"
    }
   ],
   "source": [
    "df['PRI_Reported Brand/Product Name'].value_counts().head(30)"
   ]
  },
  {
   "cell_type": "code",
   "execution_count": 9,
   "id": "junior-freeze",
   "metadata": {
    "scrolled": false
   },
   "outputs": [
    {
     "data": {
      "text/plain": [
       "<AxesSubplot:>"
      ]
     },
     "execution_count": 9,
     "metadata": {},
     "output_type": "execute_result"
    },
    {
     "data": {
      "image/png": "[encoded data removed]",
      "text/plain": [
       "<Figure size 432x288 with 1 Axes>"
      ]
     },
     "metadata": {
      "needs_background": "light"
     },
     "output_type": "display_data"
    }
   ],
   "source": [
    "df['PRI_FDA Industry Name'].value_counts().plot(kind='bar')"
   ]
  },
  {
   "cell_type": "code",
   "execution_count": 10,
   "id": "express-worth",
   "metadata": {
    "scrolled": false
   },
   "outputs": [
    {
     "name": "stdout",
     "output_type": "stream",
     "text": [
      "<class 'pandas.core.frame.DataFrame'>\n",
      "RangeIndex: 90786 entries, 0 to 90785\n",
      "Data columns (total 12 columns):\n",
      " #   Column                           Non-Null Count  Dtype  \n",
      "---  ------                           --------------  -----  \n",
      " 0   RA_Report #                      90786 non-null  int64  \n",
      " 1   RA_CAERS Created Date            90786 non-null  object \n",
      " 2   AEC_Event Start Date             53653 non-null  object \n",
      " 3   PRI_Product Role                 90786 non-null  object \n",
      " 4   PRI_Reported Brand/Product Name  90786 non-null  object \n",
      " 5   PRI_FDA Industry Code            90786 non-null  int64  \n",
      " 6   PRI_FDA Industry Name            90786 non-null  object \n",
      " 7   CI_Age at Adverse Event          52926 non-null  float64\n",
      " 8   CI_Age Unit                      90786 non-null  object \n",
      " 9   CI_Gender                        90786 non-null  object \n",
      " 10  AEC_One Row Outcomes             90786 non-null  object \n",
      " 11  SYM_One Row Coded Symptoms       90781 non-null  object \n",
      "dtypes: float64(1), int64(2), object(9)\n",
      "memory usage: 8.3+ MB\n"
     ]
    }
   ],
   "source": [
    "df.info()"
   ]
  },
  {
   "cell_type": "code",
   "execution_count": 11,
   "id": "judicial-virgin",
   "metadata": {
    "scrolled": false
   },
   "outputs": [
    {
     "data": {
      "text/plain": [
       "RA_Report #                            0\n",
       "RA_CAERS Created Date                  0\n",
       "AEC_Event Start Date               37133\n",
       "PRI_Product Role                       0\n",
       "PRI_Reported Brand/Product Name        0\n",
       "PRI_FDA Industry Code                  0\n",
       "PRI_FDA Industry Name                  0\n",
       "CI_Age at Adverse Event            37860\n",
       "CI_Age Unit                            0\n",
       "CI_Gender                              0\n",
       "AEC_One Row Outcomes                   0\n",
       "SYM_One Row Coded Symptoms             5\n",
       "dtype: int64"
      ]
     },
     "execution_count": 11,
     "metadata": {},
     "output_type": "execute_result"
    }
   ],
   "source": [
    "df.isna().sum()"
   ]
  },
  {
   "cell_type": "code",
   "execution_count": 12,
   "id": "third-budapest",
   "metadata": {},
   "outputs": [],
   "source": [
    "# Create a duplicate data set for data manipulation\n",
    "df_tmp = df.copy()"
   ]
  },
  {
   "cell_type": "code",
   "execution_count": 13,
   "id": "early-transparency",
   "metadata": {},
   "outputs": [
    {
     "name": "stdout",
     "output_type": "stream",
     "text": [
      "RA_CAERS Created Date\n",
      "AEC_Event Start Date\n",
      "PRI_Product Role\n",
      "PRI_Reported Brand/Product Name\n",
      "PRI_FDA Industry Name\n",
      "CI_Age Unit\n",
      "CI_Gender\n",
      "AEC_One Row Outcomes\n",
      "SYM_One Row Coded Symptoms\n"
     ]
    }
   ],
   "source": [
    "for label, content in df_tmp.items():\n",
    "    if pd.api.types.is_string_dtype(content):\n",
    "        print(label)"
   ]
  },
  {
   "cell_type": "code",
   "execution_count": 14,
   "id": "genetic-taiwan",
   "metadata": {},
   "outputs": [],
   "source": [
    "# Convert to Category values\n",
    "for label, content in df_tmp.items():\n",
    "    if pd.api.types.is_string_dtype(content):\n",
    "        df_tmp[label] = content.astype(\"category\").cat.as_ordered()"
   ]
  },
  {
   "cell_type": "code",
   "execution_count": 15,
   "id": "available-childhood",
   "metadata": {},
   "outputs": [
    {
     "name": "stdout",
     "output_type": "stream",
     "text": [
      "<class 'pandas.core.frame.DataFrame'>\n",
      "RangeIndex: 90786 entries, 0 to 90785\n",
      "Data columns (total 12 columns):\n",
      " #   Column                           Non-Null Count  Dtype   \n",
      "---  ------                           --------------  -----   \n",
      " 0   RA_Report #                      90786 non-null  int64   \n",
      " 1   RA_CAERS Created Date            90786 non-null  category\n",
      " 2   AEC_Event Start Date             53653 non-null  category\n",
      " 3   PRI_Product Role                 90786 non-null  category\n",
      " 4   PRI_Reported Brand/Product Name  90786 non-null  category\n",
      " 5   PRI_FDA Industry Code            90786 non-null  int64   \n",
      " 6   PRI_FDA Industry Name            90786 non-null  category\n",
      " 7   CI_Age at Adverse Event          52926 non-null  float64 \n",
      " 8   CI_Age Unit                      90786 non-null  category\n",
      " 9   CI_Gender                        90786 non-null  category\n",
      " 10  AEC_One Row Outcomes             90786 non-null  category\n",
      " 11  SYM_One Row Coded Symptoms       90781 non-null  category\n",
      "dtypes: category(9), float64(1), int64(2)\n",
      "memory usage: 6.6 MB\n"
     ]
    }
   ],
   "source": [
    "df_tmp.info()"
   ]
  },
  {
   "cell_type": "code",
   "execution_count": 16,
   "id": "spatial-special",
   "metadata": {},
   "outputs": [
    {
     "data": {
      "text/plain": [
       "RA_Report #                            0\n",
       "RA_CAERS Created Date                  0\n",
       "AEC_Event Start Date               37133\n",
       "PRI_Product Role                       0\n",
       "PRI_Reported Brand/Product Name        0\n",
       "PRI_FDA Industry Code                  0\n",
       "PRI_FDA Industry Name                  0\n",
       "CI_Age at Adverse Event            37860\n",
       "CI_Age Unit                            0\n",
       "CI_Gender                              0\n",
       "AEC_One Row Outcomes                   0\n",
       "SYM_One Row Coded Symptoms             5\n",
       "dtype: int64"
      ]
     },
     "execution_count": 16,
     "metadata": {},
     "output_type": "execute_result"
    }
   ],
   "source": [
    "df_tmp.isna().sum()"
   ]
  },
  {
   "cell_type": "code",
   "execution_count": 18,
   "id": "endangered-crack",
   "metadata": {},
   "outputs": [
    {
     "name": "stdout",
     "output_type": "stream",
     "text": [
      "RA_Report #\n",
      "PRI_FDA Industry Code\n",
      "CI_Age at Adverse Event\n"
     ]
    }
   ],
   "source": [
    "# Find missing labels\n",
    "for label, content in df_tmp.items():\n",
    "    if pd.api.types.is_numeric_dtype(content):\n",
    "        print(label)"
   ]
  },
  {
   "cell_type": "code",
   "execution_count": 19,
   "id": "imposed-mouse",
   "metadata": {},
   "outputs": [
    {
     "name": "stdout",
     "output_type": "stream",
     "text": [
      "CI_Age at Adverse Event\n"
     ]
    }
   ],
   "source": [
    "# Check for which numeric columns have null values\n",
    "for label, content in df_tmp.items():\n",
    "    if pd.api.types.is_numeric_dtype(content):\n",
    "        if pd.isnull(content).sum():\n",
    "            print(label)"
   ]
  },
  {
   "cell_type": "code",
   "execution_count": 20,
   "id": "early-failure",
   "metadata": {},
   "outputs": [
    {
     "data": {
      "text/plain": [
       "(90786, 12)"
      ]
     },
     "execution_count": 20,
     "metadata": {},
     "output_type": "execute_result"
    }
   ],
   "source": [
    "df_tmp.shape"
   ]
  },
  {
   "cell_type": "markdown",
   "id": "nuclear-stock",
   "metadata": {},
   "source": [
    "## Let's fill in the missing values"
   ]
  },
  {
   "cell_type": "code",
   "execution_count": 21,
   "id": "handled-river",
   "metadata": {},
   "outputs": [
    {
     "data": {
      "text/plain": [
       "(35428, 12)"
      ]
     },
     "execution_count": 21,
     "metadata": {},
     "output_type": "execute_result"
    }
   ],
   "source": [
    "df_tmp.dropna(inplace=True)\n",
    "df_tmp.shape\n",
    "df_tmp.drop_duplicates(subset='RA_Report #', inplace=True)"
   ]
  },
  {
   "cell_type": "code",
   "execution_count": 22,
   "id": "changed-collapse",
   "metadata": {},
   "outputs": [
    {
     "data": {
      "text/plain": [
       "RA_Report #                        0\n",
       "RA_CAERS Created Date              0\n",
       "AEC_Event Start Date               0\n",
       "PRI_Product Role                   0\n",
       "PRI_Reported Brand/Product Name    0\n",
       "PRI_FDA Industry Code              0\n",
       "PRI_FDA Industry Name              0\n",
       "CI_Age at Adverse Event            0\n",
       "CI_Age Unit                        0\n",
       "CI_Gender                          0\n",
       "AEC_One Row Outcomes               0\n",
       "SYM_One Row Coded Symptoms         0\n",
       "dtype: int64"
      ]
     },
     "execution_count": 22,
     "metadata": {},
     "output_type": "execute_result"
    }
   ],
   "source": [
    "df_tmp.isna().sum()"
   ]
  },
  {
   "cell_type": "code",
   "execution_count": 23,
   "id": "handmade-frontier",
   "metadata": {
    "scrolled": false
   },
   "outputs": [
    {
     "name": "stdout",
     "output_type": "stream",
     "text": [
      "<class 'pandas.core.frame.DataFrame'>\n",
      "Int64Index: 35428 entries, 0 to 90783\n",
      "Data columns (total 12 columns):\n",
      " #   Column                           Non-Null Count  Dtype   \n",
      "---  ------                           --------------  -----   \n",
      " 0   RA_Report #                      35428 non-null  int64   \n",
      " 1   RA_CAERS Created Date            35428 non-null  category\n",
      " 2   AEC_Event Start Date             35428 non-null  category\n",
      " 3   PRI_Product Role                 35428 non-null  category\n",
      " 4   PRI_Reported Brand/Product Name  35428 non-null  category\n",
      " 5   PRI_FDA Industry Code            35428 non-null  int64   \n",
      " 6   PRI_FDA Industry Name            35428 non-null  category\n",
      " 7   CI_Age at Adverse Event          35428 non-null  float64 \n",
      " 8   CI_Age Unit                      35428 non-null  category\n",
      " 9   CI_Gender                        35428 non-null  category\n",
      " 10  AEC_One Row Outcomes             35428 non-null  category\n",
      " 11  SYM_One Row Coded Symptoms       35428 non-null  category\n",
      "dtypes: category(9), float64(1), int64(2)\n",
      "memory usage: 4.6 MB\n"
     ]
    }
   ],
   "source": [
    "df_tmp.info()"
   ]
  },
  {
   "cell_type": "code",
   "execution_count": 24,
   "id": "auburn-snowboard",
   "metadata": {
    "scrolled": false
   },
   "outputs": [
    {
     "data": {
      "text/html": [
       "<div>\n",
       "<style scoped>\n",
       "    .dataframe tbody tr th:only-of-type {\n",
       "        vertical-align: middle;\n",
       "    }\n",
       "\n",
       "    .dataframe tbody tr th {\n",
       "        vertical-align: top;\n",
       "    }\n",
       "\n",
       "    .dataframe thead th {\n",
       "        text-align: right;\n",
       "    }\n",
       "</style>\n",
       "<table border=\"1\" class=\"dataframe\">\n",
       "  <thead>\n",
       "    <tr style=\"text-align: right;\">\n",
       "      <th></th>\n",
       "      <th>0</th>\n",
       "      <th>1</th>\n",
       "      <th>3</th>\n",
       "      <th>5</th>\n",
       "      <th>16</th>\n",
       "    </tr>\n",
       "  </thead>\n",
       "  <tbody>\n",
       "    <tr>\n",
       "      <th>RA_Report #</th>\n",
       "      <td>65325</td>\n",
       "      <td>65325</td>\n",
       "      <td>65335</td>\n",
       "      <td>65345</td>\n",
       "      <td>65399</td>\n",
       "    </tr>\n",
       "    <tr>\n",
       "      <th>RA_CAERS Created Date</th>\n",
       "      <td>1/1/2004</td>\n",
       "      <td>1/1/2004</td>\n",
       "      <td>1/1/2004</td>\n",
       "      <td>1/1/2004</td>\n",
       "      <td>1/5/2004</td>\n",
       "    </tr>\n",
       "    <tr>\n",
       "      <th>AEC_Event Start Date</th>\n",
       "      <td>8/4/2003</td>\n",
       "      <td>8/4/2003</td>\n",
       "      <td>11/24/2003</td>\n",
       "      <td>12/21/2003</td>\n",
       "      <td>11/22/2003</td>\n",
       "    </tr>\n",
       "    <tr>\n",
       "      <th>PRI_Product Role</th>\n",
       "      <td>Suspect</td>\n",
       "      <td>Suspect</td>\n",
       "      <td>Suspect</td>\n",
       "      <td>Suspect</td>\n",
       "      <td>Suspect</td>\n",
       "    </tr>\n",
       "    <tr>\n",
       "      <th>PRI_Reported Brand/Product Name</th>\n",
       "      <td>MIDWEST COUNTRY FAIR CHOCOLATE FLAVORED CHIPS</td>\n",
       "      <td>MIDWEST COUNTRY FAIR CHOCOLATE FLAVORED CHIPS</td>\n",
       "      <td>ENFAMIL LIPIL BABY FORMULA</td>\n",
       "      <td>FRITO LAY FUNYUNS ONION FLAVOR, ONION RINGS</td>\n",
       "      <td>METOBOLITE 356</td>\n",
       "    </tr>\n",
       "    <tr>\n",
       "      <th>PRI_FDA Industry Code</th>\n",
       "      <td>3</td>\n",
       "      <td>3</td>\n",
       "      <td>40</td>\n",
       "      <td>7</td>\n",
       "      <td>54</td>\n",
       "    </tr>\n",
       "    <tr>\n",
       "      <th>PRI_FDA Industry Name</th>\n",
       "      <td>Bakery Prod/Dough/Mix/Icing</td>\n",
       "      <td>Bakery Prod/Dough/Mix/Icing</td>\n",
       "      <td>Baby Food Prod</td>\n",
       "      <td>Snack Food Item</td>\n",
       "      <td>Vit/Min/Prot/Unconv Diet(Human/Animal)</td>\n",
       "    </tr>\n",
       "    <tr>\n",
       "      <th>CI_Age at Adverse Event</th>\n",
       "      <td>2.0</td>\n",
       "      <td>2.0</td>\n",
       "      <td>3.0</td>\n",
       "      <td>10.0</td>\n",
       "      <td>51.0</td>\n",
       "    </tr>\n",
       "    <tr>\n",
       "      <th>CI_Age Unit</th>\n",
       "      <td>Year(s)</td>\n",
       "      <td>Year(s)</td>\n",
       "      <td>Month(s)</td>\n",
       "      <td>Year(s)</td>\n",
       "      <td>Year(s)</td>\n",
       "    </tr>\n",
       "    <tr>\n",
       "      <th>CI_Gender</th>\n",
       "      <td>Female</td>\n",
       "      <td>Female</td>\n",
       "      <td>Not Available</td>\n",
       "      <td>Male</td>\n",
       "      <td>Male</td>\n",
       "    </tr>\n",
       "    <tr>\n",
       "      <th>AEC_One Row Outcomes</th>\n",
       "      <td>VISITED AN ER, VISITED A HEALTH CARE PROVIDER,...</td>\n",
       "      <td>VISITED AN ER, VISITED A HEALTH CARE PROVIDER,...</td>\n",
       "      <td>NON-SERIOUS INJURIES/ ILLNESS</td>\n",
       "      <td>NON-SERIOUS INJURIES/ ILLNESS</td>\n",
       "      <td>DEATH</td>\n",
       "    </tr>\n",
       "    <tr>\n",
       "      <th>SYM_One Row Coded Symptoms</th>\n",
       "      <td>SWELLING FACE, RASH, WHEEZING, COUGH, HOSPITAL...</td>\n",
       "      <td>SWELLING FACE, WHEEZING, COUGH, RASH, HOSPITAL...</td>\n",
       "      <td>GASTROINTESTINAL DISORDER, VOMITING</td>\n",
       "      <td>CHOKING</td>\n",
       "      <td>COMPLETED SUICIDE, STRESS SYMPTOMS, DEATH</td>\n",
       "    </tr>\n",
       "  </tbody>\n",
       "</table>\n",
       "</div>"
      ],
      "text/plain": [
       "                                                                                0   \\\n",
       "RA_Report #                                                                  65325   \n",
       "RA_CAERS Created Date                                                     1/1/2004   \n",
       "AEC_Event Start Date                                                      8/4/2003   \n",
       "PRI_Product Role                                                           Suspect   \n",
       "PRI_Reported Brand/Product Name      MIDWEST COUNTRY FAIR CHOCOLATE FLAVORED CHIPS   \n",
       "PRI_FDA Industry Code                                                            3   \n",
       "PRI_FDA Industry Name                                  Bakery Prod/Dough/Mix/Icing   \n",
       "CI_Age at Adverse Event                                                        2.0   \n",
       "CI_Age Unit                                                                Year(s)   \n",
       "CI_Gender                                                                   Female   \n",
       "AEC_One Row Outcomes             VISITED AN ER, VISITED A HEALTH CARE PROVIDER,...   \n",
       "SYM_One Row Coded Symptoms       SWELLING FACE, RASH, WHEEZING, COUGH, HOSPITAL...   \n",
       "\n",
       "                                                                                1   \\\n",
       "RA_Report #                                                                  65325   \n",
       "RA_CAERS Created Date                                                     1/1/2004   \n",
       "AEC_Event Start Date                                                      8/4/2003   \n",
       "PRI_Product Role                                                           Suspect   \n",
       "PRI_Reported Brand/Product Name      MIDWEST COUNTRY FAIR CHOCOLATE FLAVORED CHIPS   \n",
       "PRI_FDA Industry Code                                                            3   \n",
       "PRI_FDA Industry Name                                  Bakery Prod/Dough/Mix/Icing   \n",
       "CI_Age at Adverse Event                                                        2.0   \n",
       "CI_Age Unit                                                                Year(s)   \n",
       "CI_Gender                                                                   Female   \n",
       "AEC_One Row Outcomes             VISITED AN ER, VISITED A HEALTH CARE PROVIDER,...   \n",
       "SYM_One Row Coded Symptoms       SWELLING FACE, WHEEZING, COUGH, RASH, HOSPITAL...   \n",
       "\n",
       "                                                                  3   \\\n",
       "RA_Report #                                                    65335   \n",
       "RA_CAERS Created Date                                       1/1/2004   \n",
       "AEC_Event Start Date                                      11/24/2003   \n",
       "PRI_Product Role                                             Suspect   \n",
       "PRI_Reported Brand/Product Name           ENFAMIL LIPIL BABY FORMULA   \n",
       "PRI_FDA Industry Code                                             40   \n",
       "PRI_FDA Industry Name                                 Baby Food Prod   \n",
       "CI_Age at Adverse Event                                          3.0   \n",
       "CI_Age Unit                                                 Month(s)   \n",
       "CI_Gender                                              Not Available   \n",
       "AEC_One Row Outcomes                   NON-SERIOUS INJURIES/ ILLNESS   \n",
       "SYM_One Row Coded Symptoms       GASTROINTESTINAL DISORDER, VOMITING   \n",
       "\n",
       "                                                                          5   \\\n",
       "RA_Report #                                                            65345   \n",
       "RA_CAERS Created Date                                               1/1/2004   \n",
       "AEC_Event Start Date                                              12/21/2003   \n",
       "PRI_Product Role                                                     Suspect   \n",
       "PRI_Reported Brand/Product Name  FRITO LAY FUNYUNS ONION FLAVOR, ONION RINGS   \n",
       "PRI_FDA Industry Code                                                      7   \n",
       "PRI_FDA Industry Name                                        Snack Food Item   \n",
       "CI_Age at Adverse Event                                                 10.0   \n",
       "CI_Age Unit                                                          Year(s)   \n",
       "CI_Gender                                                               Male   \n",
       "AEC_One Row Outcomes                           NON-SERIOUS INJURIES/ ILLNESS   \n",
       "SYM_One Row Coded Symptoms                                           CHOKING   \n",
       "\n",
       "                                                                        16  \n",
       "RA_Report #                                                          65399  \n",
       "RA_CAERS Created Date                                             1/5/2004  \n",
       "AEC_Event Start Date                                            11/22/2003  \n",
       "PRI_Product Role                                                   Suspect  \n",
       "PRI_Reported Brand/Product Name                             METOBOLITE 356  \n",
       "PRI_FDA Industry Code                                                   54  \n",
       "PRI_FDA Industry Name               Vit/Min/Prot/Unconv Diet(Human/Animal)  \n",
       "CI_Age at Adverse Event                                               51.0  \n",
       "CI_Age Unit                                                        Year(s)  \n",
       "CI_Gender                                                             Male  \n",
       "AEC_One Row Outcomes                                                 DEATH  \n",
       "SYM_One Row Coded Symptoms       COMPLETED SUICIDE, STRESS SYMPTOMS, DEATH  "
      ]
     },
     "execution_count": 24,
     "metadata": {},
     "output_type": "execute_result"
    }
   ],
   "source": [
    "df_tmp.head().T"
   ]
  },
  {
   "cell_type": "code",
   "execution_count": 25,
   "id": "collective-cross",
   "metadata": {
    "scrolled": false
   },
   "outputs": [
    {
     "data": {
      "text/plain": [
       "<AxesSubplot:>"
      ]
     },
     "execution_count": 25,
     "metadata": {},
     "output_type": "execute_result"
    },
    {
     "data": {
      "image/png": "[encoded data removed]",
      "text/plain": [
       "<Figure size 432x288 with 1 Axes>"
      ]
     },
     "metadata": {
      "needs_background": "light"
     },
     "output_type": "display_data"
    }
   ],
   "source": [
    "df_tmp['PRI_FDA Industry Name'].value_counts().plot(kind='bar')"
   ]
  },
  {
   "cell_type": "markdown",
   "id": "interim-contrast",
   "metadata": {},
   "source": [
    "## The data has been explored (to a certain extent). Let's take a look at how different age ranges were affected by the top product type, Vitamins"
   ]
  },
  {
   "cell_type": "code",
   "execution_count": 37,
   "id": "forbidden-sacramento",
   "metadata": {},
   "outputs": [
    {
     "data": {
      "text/plain": [
       "Year(s)          34227\n",
       "Month(s)           928\n",
       "Week(s)            135\n",
       "Day(s)             128\n",
       "Not Available        9\n",
       "Decade(s)            1\n",
       "Name: CI_Age Unit, dtype: int64"
      ]
     },
     "execution_count": 37,
     "metadata": {},
     "output_type": "execute_result"
    }
   ],
   "source": [
    "df_tmp['CI_Age Unit'].value_counts()"
   ]
  },
  {
   "cell_type": "code",
   "execution_count": 55,
   "id": "encouraging-purchase",
   "metadata": {},
   "outputs": [],
   "source": [
    "def convert_age(row):\n",
    "    \"\"\"\n",
    "    normalize the age value based on the units. \n",
    "    i.e. if units in months, convert to years by dividing by 12\n",
    "    \n",
    "    :param row: pd.DataFrame row\n",
    "    :return float - normalized age\n",
    "    :rtype: float\n",
    "    \"\"\"\n",
    "    age = row['CI_Age at Adverse Event']\n",
    "    units = row['CI_Age Unit']\n",
    "    \n",
    "    # create lookup map\n",
    "    lookup = {'Year(s)': 1.0,\n",
    "             'Month(s)': 12.0,\n",
    "             'Week(s)': 52.0,\n",
    "             'Day(s)': 365.0,\n",
    "             'Decade(s)': .1}\n",
    "    \n",
    "    if units != 'Not Available':\n",
    "        # return the age as years\n",
    "        return float(age)/lookup[units]\n",
    "    \n",
    "df['AgeNormed'] = df.apply(lambda row: convert_age(row), axis=1)\n",
    "\n",
    "df = df.drop(df[df['AgeNormed'] > 105].index)"
   ]
  },
  {
   "cell_type": "code",
   "execution_count": null,
   "id": "further-thumb",
   "metadata": {},
   "outputs": [],
   "source": []
  }
 ],
 "metadata": {
  "kernelspec": {
   "display_name": "Python 3",
   "language": "python",
   "name": "python3"
  },
  "language_info": {
   "codemirror_mode": {
    "name": "ipython",
    "version": 3
   },
   "file_extension": ".py",
   "mimetype": "text/x-python",
   "name": "python",
   "nbconvert_exporter": "python",
   "pygments_lexer": "ipython3",
   "version": "3.8.5"
  }
 },
 "nbformat": 4,
 "nbformat_minor": 5
}
